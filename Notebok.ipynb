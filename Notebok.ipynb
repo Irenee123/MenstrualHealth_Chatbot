{
  "cells": [
    {
      "cell_type": "markdown",
      "metadata": {
        "id": "V3V84DZIycb8"
      },
      "source": [
        "# Menstrual Health Chatbot Project\n",
        "\n",
        "This notebook fine-tunes a T5 transformer model for question-answering on menstrual health. It covers data preprocessing, model training, evaluation, and deployment via a simple web interface.\n"
      ]
    },
    {
      "cell_type": "code",
      "execution_count": 11,
      "metadata": {
        "id": "55OXExsa4DgC"
      },
      "outputs": [],
      "source": [
        "import pandas as pd\n",
        "import numpy as np\n",
        "from sklearn.model_selection import train_test_split\n",
        "from transformers import T5Tokenizer, T5ForConditionalGeneration, Trainer, TrainingArguments\n",
        "import torch\n",
        "from torch.utils.data import Dataset\n",
        "from nltk.translate.bleu_score import sentence_bleu\n",
        "import gradio as gr\n",
        "pd.set_option('display.max_colwidth', None)\n"
      ]
    },
    {
      "cell_type": "code",
      "execution_count": 12,
      "metadata": {
        "colab": {
          "base_uri": "https://localhost:8080/"
        },
        "id": "BSkUvjeJ4Hr8",
        "outputId": "d668ff36-bf30-49cc-f635-855100724316"
      },
      "outputs": [
        {
          "name": "stdout",
          "output_type": "stream",
          "text": [
            "Train columns: Index(['instruction (string)', 'output (string)'], dtype='object')\n",
            "Test columns: Index(['instruction (string)', 'output (string)'], dtype='object')\n",
            "Saved cleaned csv files.\n"
          ]
        }
      ],
      "source": [
        "# Load raw datasets\n",
        "df_train = pd.read_csv('data/Training Data.csv')\n",
        "df_test = pd.read_csv('data/Testing Data.csv')\n",
        "\n",
        "print(\"Train columns:\", df_train.columns)\n",
        "print(\"Test columns:\", df_test.columns)\n",
        "\n",
        "# Clean: lowercase questions, strip answers, drop missing\n",
        "for df in [df_train, df_test]:\n",
        "    df['instruction (string)'] = df['instruction (string)'].astype(str).str.strip().str.lower()\n",
        "    df['output (string)'] = df['output (string)'].astype(str).str.strip()\n",
        "    df.dropna(subset=['instruction (string)', 'output (string)'], inplace=True)\n",
        "\n",
        "# Save cleaned versions\n",
        "df_train.to_csv('data/train_cleaned.csv', index=False)\n",
        "df_test.to_csv('data/test_cleaned.csv', index=False)\n",
        "print(\"Saved cleaned csv files.\")\n"
      ]
    },
    {
      "cell_type": "code",
      "execution_count": 13,
      "metadata": {
        "colab": {
          "base_uri": "https://localhost:8080/"
        },
        "id": "tIYwsXf-4MMy",
        "outputId": "afbc2fed-6925-445a-afd7-9eeea03a6a55"
      },
      "outputs": [
        {
          "name": "stdout",
          "output_type": "stream",
          "text": [
            "Train/Val/Test splits saved.\n"
          ]
        }
      ],
      "source": [
        "# 90/10 split from training set\n",
        "train_df, val_df = train_test_split(df_train, test_size=0.1, random_state=42)\n",
        "train_df.to_csv('data/train.csv', index=False)\n",
        "val_df.to_csv('data/val.csv', index=False)\n",
        "df_test.to_csv('data/test.csv', index=False)\n",
        "print(\"Train/Val/Test splits saved.\")\n"
      ]
    },
    {
      "cell_type": "code",
      "execution_count": 15,
      "metadata": {
        "colab": {
          "base_uri": "https://localhost:8080/",
          "height": 254,
          "referenced_widgets": [
            "c937a8fcc95b4eddaf395a90bdb8f886",
            "99c55906092e4370a9651a85851198d7",
            "4062a4306ff9423ca814b49f8bb3e1ba",
            "09b03ae16c5c433da7689300a66b1058",
            "6e8c2b4b5c5b4430ac67da745ec0b1bb",
            "f9111f3deb8c460bba9c0812a5717a2d",
            "75ec386e0ba04ed6929bcde6534f82ad",
            "b8aaec950dd341a29652e260f022bd51",
            "a013485f490c4e0aa4ef3d6d561379ed",
            "f5954ee0905845a6ada03423382aa37c",
            "f9b138559ce74187afc5130432c48c8b",
            "a1b5dedef2e148738ad16c18ffd87af6",
            "df64fa56348b443b8802d9f35682fb6d",
            "ab3afdef26c64d97929a1bb9e7ee07bd",
            "d7ebb29c3129408bb2bd6a190d494348",
            "18211cf020774d91bd1e5003ccf1850c",
            "8b49425121ba4c35add8f84c9418ae1b",
            "f2b960949e4d4f62b66d5c2c7fe03c23",
            "0a65307ca89d4532bb886b02b36c0aa5",
            "73428ec2248f464986b63d1557253f54",
            "2be1ab06e2a24bc2b13dc02ecca7c88e",
            "774c1b1221254af7a7bd0c307807754c",
            "5a82858f438f4b579b51ab4db435a913",
            "0178f4385699407bafd654fceb5d6026",
            "a7a7a62e874e4b6fb7746dc647550221",
            "f1e72e6f140347919df8062026c5ad7e",
            "4aa568c898514951ac53c823214d88d8",
            "ac240e36a70842d585fff0de23086c9e",
            "cd62d34741a84361a5cf169f5db73262",
            "610147ed15bb467da1eec78ef2e9279e",
            "edc357feac7d4d1cb84949038dcb8039",
            "09058fcb1f5749c886e02dd90f90c1e4",
            "ba50249be1974247820fedfc5a729fd5"
          ]
        },
        "id": "pliuVJaaH9mg",
        "outputId": "a88d85ba-caba-413b-ae78-9b5d0ae15f0c"
      },
      "outputs": [
        {
          "name": "stderr",
          "output_type": "stream",
          "text": [
            "/usr/local/lib/python3.12/dist-packages/huggingface_hub/utils/_auth.py:94: UserWarning: \n",
            "The secret `HF_TOKEN` does not exist in your Colab secrets.\n",
            "To authenticate with the Hugging Face Hub, create a token in your settings tab (https://huggingface.co/settings/tokens), set it as secret in your Google Colab and restart your session.\n",
            "You will be able to reuse this secret in all of your notebooks.\n",
            "Please note that authentication is recommended but still optional to access public models or datasets.\n",
            "  warnings.warn(\n"
          ]
        },
        {
          "data": {
            "application/vnd.jupyter.widget-view+json": {
              "model_id": "c937a8fcc95b4eddaf395a90bdb8f886",
              "version_major": 2,
              "version_minor": 0
            },
            "text/plain": [
              "tokenizer_config.json:   0%|          | 0.00/2.32k [00:00<?, ?B/s]"
            ]
          },
          "metadata": {},
          "output_type": "display_data"
        },
        {
          "data": {
            "application/vnd.jupyter.widget-view+json": {
              "model_id": "a1b5dedef2e148738ad16c18ffd87af6",
              "version_major": 2,
              "version_minor": 0
            },
            "text/plain": [
              "spiece.model:   0%|          | 0.00/792k [00:00<?, ?B/s]"
            ]
          },
          "metadata": {},
          "output_type": "display_data"
        },
        {
          "data": {
            "application/vnd.jupyter.widget-view+json": {
              "model_id": "5a82858f438f4b579b51ab4db435a913",
              "version_major": 2,
              "version_minor": 0
            },
            "text/plain": [
              "tokenizer.json:   0%|          | 0.00/1.39M [00:00<?, ?B/s]"
            ]
          },
          "metadata": {},
          "output_type": "display_data"
        },
        {
          "name": "stderr",
          "output_type": "stream",
          "text": [
            "You are using the default legacy behaviour of the <class 'transformers.models.t5.tokenization_t5.T5Tokenizer'>. This is expected, and simply means that the `legacy` (previous) behavior will be used so nothing changes for you. If you want to use the new behaviour, set `legacy=False`. This should only be set if you understand what it means, and thoroughly read the reason why this was added as explained in https://github.com/huggingface/transformers/pull/24565\n"
          ]
        }
      ],
      "source": [
        "from transformers import T5Tokenizer\n",
        "\n",
        "tokenizer = T5Tokenizer.from_pretrained('t5-small')  # Or t5-base, etc.\n"
      ]
    },
    {
      "cell_type": "code",
      "execution_count": 16,
      "metadata": {
        "colab": {
          "base_uri": "https://localhost:8080/"
        },
        "id": "UuznAmi34R0o",
        "outputId": "f9322d92-5a5d-41a7-df7d-e3858fb3557d"
      },
      "outputs": [
        {
          "name": "stdout",
          "output_type": "stream",
          "text": [
            "Tokenization complete. Tokenized files saved in data/.\n"
          ]
        }
      ],
      "source": [
        "# Tokenize function for T5-style QA with prefix\n",
        "def tokenize_df(df):\n",
        "    df = df.copy()\n",
        "    df['input_ids'] = df['instruction (string)'].apply(lambda x: tokenizer.encode(\"question: \" + x, truncation=True, max_length=64))\n",
        "    df['labels'] = df['output (string)'].apply(lambda x: tokenizer.encode(x, truncation=True, max_length=64))\n",
        "    return df\n",
        "\n",
        "# Apply tokenization to all splits\n",
        "train_df = tokenize_df(train_df)\n",
        "val_df = tokenize_df(val_df)\n",
        "df_test = tokenize_df(df_test)\n",
        "\n",
        "# Save tokenized data to CSV for reproducibility\n",
        "train_df[['input_ids', 'labels']].to_csv('data/train_tokenized.csv', index=False)\n",
        "val_df[['input_ids', 'labels']].to_csv('data/val_tokenized.csv', index=False)\n",
        "df_test[['input_ids', 'labels']].to_csv('data/test_tokenized.csv', index=False)\n",
        "\n",
        "print(\"Tokenization complete. Tokenized files saved in data/.\")\n"
      ]
    },
    {
      "cell_type": "code",
      "execution_count": 17,
      "metadata": {
        "id": "gDBHpwHo4Vu9"
      },
      "outputs": [],
      "source": [
        "class MenstrualQADataset(Dataset):\n",
        "    def __init__(self, df):\n",
        "        self.df = df.reset_index(drop=True)\n",
        "    def __len__(self):\n",
        "        return len(self.df)\n",
        "    def __getitem__(self, idx):\n",
        "        return {\n",
        "            'input_ids': torch.tensor(self.df.iloc[idx]['input_ids'], dtype=torch.long),\n",
        "            'labels': torch.tensor(self.df.iloc[idx]['labels'], dtype=torch.long)\n",
        "        }\n",
        "\n",
        "train_dataset = MenstrualQADataset(train_df)\n",
        "val_dataset = MenstrualQADataset(val_df)\n"
      ]
    },
    {
      "cell_type": "code",
      "execution_count": 18,
      "metadata": {
        "colab": {
          "base_uri": "https://localhost:8080/",
          "height": 113,
          "referenced_widgets": [
            "196517dd1f48400d84c1dc5b480da6d8",
            "83871ff9469744c3bbeec1faebf73e14",
            "c2d53317079841ff9893230ee9ffa38a",
            "0961de9491674ba3939840dd02316e0a",
            "246cffdc567e478aba5048ee1ab449d4",
            "d649ffe1d5b049a2ab7063d4a841c187",
            "27fe243cc05548439277fd98881cdcec",
            "abee98b657a3441981eb441140e47591",
            "3246de62b39d4d5cb0e2aaaa9a5543f9",
            "bef88053649149448913f07d4179e8f0",
            "8089227090384be09d21d742aa5017ca",
            "0ee870ee802a4964ae34905f7c5d06b4",
            "4016466486e643a89c6bdf98365005b0",
            "ad30ff011f6a4d0aada67ea5091b2522",
            "19b29f1741d7412d8f0120d130281ba7",
            "2eed7ce4d3dc4321bb1ddad52a70a7de",
            "38e57b86981a4fa391f37aebfbff33ae",
            "6a32356a52244ca4ae613e5c013739b3",
            "56501f6607c448108739dce71dc084ba",
            "a47a1bc4c8774ff99da633c535c607fe",
            "8e5ce9eab9a94131a9f27311f9f08973",
            "79802fec650a476f87efe988330e8a1c",
            "4da8a7defdcb4b39ab51845da7472440",
            "d335973ec74c491aaeb022f2c35be316",
            "cd9ba6a88b2844c9802096f6da8c8f33",
            "e0a2e25de28a495cb0ca9001640a418f",
            "2cf87f96869d4575b1f90ada9d0aaf01",
            "f599e88fb96947198b83e29da4e8f35f",
            "be2b25dea1f24e939c4d6adf3ebd9755",
            "bb7f78e84d4a44bc9fac8d5d2e5b346d",
            "7d2214f551654e79940a596cd8db8d73",
            "4d9c873364a849e0841d609f37e2c3a2",
            "876f204ab82d47b79d8201aec7e9664e"
          ]
        },
        "id": "66gkFL1R4ajL",
        "outputId": "b020fa8a-ff90-4a5c-bf7f-39b8c5f24ddd"
      },
      "outputs": [
        {
          "data": {
            "application/vnd.jupyter.widget-view+json": {
              "model_id": "196517dd1f48400d84c1dc5b480da6d8",
              "version_major": 2,
              "version_minor": 0
            },
            "text/plain": [
              "config.json:   0%|          | 0.00/1.21k [00:00<?, ?B/s]"
            ]
          },
          "metadata": {},
          "output_type": "display_data"
        },
        {
          "data": {
            "application/vnd.jupyter.widget-view+json": {
              "model_id": "0ee870ee802a4964ae34905f7c5d06b4",
              "version_major": 2,
              "version_minor": 0
            },
            "text/plain": [
              "model.safetensors:   0%|          | 0.00/242M [00:00<?, ?B/s]"
            ]
          },
          "metadata": {},
          "output_type": "display_data"
        },
        {
          "data": {
            "application/vnd.jupyter.widget-view+json": {
              "model_id": "4da8a7defdcb4b39ab51845da7472440",
              "version_major": 2,
              "version_minor": 0
            },
            "text/plain": [
              "generation_config.json:   0%|          | 0.00/147 [00:00<?, ?B/s]"
            ]
          },
          "metadata": {},
          "output_type": "display_data"
        }
      ],
      "source": [
        "model = T5ForConditionalGeneration.from_pretrained(\"t5-small\")\n"
      ]
    },
    {
      "cell_type": "code",
      "execution_count": 19,
      "metadata": {
        "colab": {
          "base_uri": "https://localhost:8080/",
          "height": 575
        },
        "id": "_p0P7MZu4fp6",
        "outputId": "feabb7de-786f-45e1-809c-677d5ca8d0b4"
      },
      "outputs": [
        {
          "name": "stderr",
          "output_type": "stream",
          "text": [
            "/usr/local/lib/python3.12/dist-packages/transformers/data/data_collator.py:740: UserWarning: Creating a tensor from a list of numpy.ndarrays is extremely slow. Please consider converting the list to a single numpy.ndarray with numpy.array() before converting to a tensor. (Triggered internally at /pytorch/torch/csrc/utils/tensor_new.cpp:253.)\n",
            "  batch[\"labels\"] = torch.tensor(batch[\"labels\"], dtype=torch.int64)\n"
          ]
        },
        {
          "data": {
            "text/html": [
              "\n",
              "    <div>\n",
              "      \n",
              "      <progress value='120' max='120' style='width:300px; height:20px; vertical-align: middle;'></progress>\n",
              "      [120/120 00:13, Epoch 2/2]\n",
              "    </div>\n",
              "    <table border=\"1\" class=\"dataframe\">\n",
              "  <thead>\n",
              " <tr style=\"text-align: left;\">\n",
              "      <th>Step</th>\n",
              "      <th>Training Loss</th>\n",
              "    </tr>\n",
              "  </thead>\n",
              "  <tbody>\n",
              "    <tr>\n",
              "      <td>10</td>\n",
              "      <td>4.224400</td>\n",
              "    </tr>\n",
              "    <tr>\n",
              "      <td>20</td>\n",
              "      <td>3.732100</td>\n",
              "    </tr>\n",
              "    <tr>\n",
              "      <td>30</td>\n",
              "      <td>3.562900</td>\n",
              "    </tr>\n",
              "    <tr>\n",
              "      <td>40</td>\n",
              "      <td>3.501000</td>\n",
              "    </tr>\n",
              "    <tr>\n",
              "      <td>50</td>\n",
              "      <td>3.353400</td>\n",
              "    </tr>\n",
              "    <tr>\n",
              "      <td>60</td>\n",
              "      <td>3.310500</td>\n",
              "    </tr>\n",
              "    <tr>\n",
              "      <td>70</td>\n",
              "      <td>3.233700</td>\n",
              "    </tr>\n",
              "    <tr>\n",
              "      <td>80</td>\n",
              "      <td>3.291700</td>\n",
              "    </tr>\n",
              "    <tr>\n",
              "      <td>90</td>\n",
              "      <td>3.302300</td>\n",
              "    </tr>\n",
              "    <tr>\n",
              "      <td>100</td>\n",
              "      <td>3.209400</td>\n",
              "    </tr>\n",
              "    <tr>\n",
              "      <td>110</td>\n",
              "      <td>3.208300</td>\n",
              "    </tr>\n",
              "    <tr>\n",
              "      <td>120</td>\n",
              "      <td>3.195000</td>\n",
              "    </tr>\n",
              "  </tbody>\n",
              "</table><p>"
            ],
            "text/plain": [
              "<IPython.core.display.HTML object>"
            ]
          },
          "metadata": {},
          "output_type": "display_data"
        },
        {
          "data": {
            "text/plain": [
              "('model/best_model/tokenizer_config.json',\n",
              " 'model/best_model/special_tokens_map.json',\n",
              " 'model/best_model/spiece.model',\n",
              " 'model/best_model/added_tokens.json')"
            ]
          },
          "execution_count": 19,
          "metadata": {},
          "output_type": "execute_result"
        }
      ],
      "source": [
        "from transformers import DataCollatorForSeq2Seq\n",
        "\n",
        "data_collator = DataCollatorForSeq2Seq(tokenizer, model=model)\n",
        "\n",
        "training_args = TrainingArguments(\n",
        "    output_dir=\"model/best_model\",\n",
        "    per_device_train_batch_size=8,\n",
        "    num_train_epochs=2,\n",
        "    learning_rate=5e-5,\n",
        "    logging_steps=10,\n",
        "    logging_dir='model/logs',\n",
        "    save_total_limit=1,\n",
        "    report_to='none'\n",
        ")\n",
        "\n",
        "trainer = Trainer(\n",
        "    model=model,\n",
        "    args=training_args,\n",
        "    train_dataset=train_dataset,\n",
        "    eval_dataset=val_dataset,\n",
        "    data_collator=data_collator      # <--- This line adds auto-padding!\n",
        ")\n",
        "\n",
        "train_result = trainer.train()\n",
        "\n",
        "model.save_pretrained(\"model/best_model\")\n",
        "tokenizer.save_pretrained(\"model/best_model\")\n"
      ]
    },
    {
      "cell_type": "code",
      "execution_count": 22,
      "metadata": {
        "colab": {
          "base_uri": "https://localhost:8080/"
        },
        "id": "AO4jQNHq4p5E",
        "outputId": "db366007-b490-4256-ed75-2c8df51bdfb5"
      },
      "outputs": [
        {
          "name": "stderr",
          "output_type": "stream",
          "text": [
            "/usr/local/lib/python3.12/dist-packages/nltk/translate/bleu_score.py:577: UserWarning: \n",
            "The hypothesis contains 0 counts of 2-gram overlaps.\n",
            "Therefore the BLEU score evaluates to 0, independently of\n",
            "how many N-gram overlaps of lower order it contains.\n",
            "Consider using lower n-gram order or use SmoothingFunction()\n",
            "  warnings.warn(_msg)\n",
            "/usr/local/lib/python3.12/dist-packages/nltk/translate/bleu_score.py:577: UserWarning: \n",
            "The hypothesis contains 0 counts of 3-gram overlaps.\n",
            "Therefore the BLEU score evaluates to 0, independently of\n",
            "how many N-gram overlaps of lower order it contains.\n",
            "Consider using lower n-gram order or use SmoothingFunction()\n",
            "  warnings.warn(_msg)\n",
            "/usr/local/lib/python3.12/dist-packages/nltk/translate/bleu_score.py:577: UserWarning: \n",
            "The hypothesis contains 0 counts of 4-gram overlaps.\n",
            "Therefore the BLEU score evaluates to 0, independently of\n",
            "how many N-gram overlaps of lower order it contains.\n",
            "Consider using lower n-gram order or use SmoothingFunction()\n",
            "  warnings.warn(_msg)\n"
          ]
        },
        {
          "name": "stdout",
          "output_type": "stream",
          "text": [
            "Q: what is the physiological process behind menstruation?\n",
            "Target: Menstruation is the result of complex hormonal interactions orchestrated by the hypothalamus, pituitary gland, ovaries, and uterus, leading to the shedding of the endometrial lining in response to changes in estrogen and progesterone levels.\n",
            "Model: Menstruation: a process of menstruation, a process of regulating the body, a process that causes the menstruation to develop.\n",
            "BLEU: 0.00\n",
            "\n",
            "Q: how do hormonal fluctuations throughout the menstrual cycle affect the body?\n",
            "Target: Hormonal fluctuations, particularly in estrogen and progesterone levels, regulate the menstrual cycle by influencing the growth and shedding of the endometrial lining, as well as the release of an egg from the ovary during ovulation.\n",
            "Model: Depending on the body, the effects of hormonal changes in the body and the body shape.\n",
            "BLEU: 0.00\n",
            "\n",
            "Q: what are some underlying causes of menstrual irregularities?\n",
            "Target: Menstrual irregularities can stem from various factors, including hormonal imbalances, thyroid disorders, polycystic ovary syndrome (PCOS), endometriosis, and structural abnormalities of the reproductive organs.\n",
            "Model: Menstrual irregularities are causing menstrual irregularities, including menstrual irregularities, and menstrual irregularities.\n",
            "BLEU: 0.00\n",
            "\n",
            "Q: can you explain the role of prostaglandins in menstrual cramping?\n",
            "Target: Prostaglandins are hormone-like substances released from the uterine lining during menstruation. They trigger uterine contractions to expel the endometrial tissue, leading to menstrual cramps or dysmenorrhea.\n",
            "Model: Can you explain the role of prostaglandins in menstrual cramping?\n",
            "BLEU: 0.00\n",
            "\n",
            "Q: what are some lifestyle modifications that can alleviate menstrual discomfort?\n",
            "Target: Implementing regular exercise, maintaining a balanced diet rich in nutrients, managing stress through relaxation techniques or mindfulness practices, and ensuring adequate hydration are all beneficial in alleviating menstrual discomfort.\n",
            "Model: Menstrual discomfort can be alleviated by adjusting diet to reduce menstrual symptoms.\n",
            "BLEU: 0.00\n",
            "\n",
            "Q: what distinguishes premenstrual syndrome (pms) from premenstrual dysphoric disorder (pmdd)?\n",
            "Target: PMDD is a more severe and clinically significant form of PMS, characterized by debilitating emotional and physical symptoms that significantly impair daily functioning and interpersonal relationships.\n",
            "Model: Premenstrual syndrome (pmdd) is a disorder that is characterized by premenstrual dysphoric disorder.\n",
            "BLEU: 0.00\n",
            "\n",
            "Q: can you elaborate on the hormonal and neurochemical imbalances underlying pmdd?\n",
            "Target: PMDD is thought to be linked to alterations in serotonin levels and sensitivity in the brain, as well as fluctuations in reproductive hormones such as estrogen and progesterone, which contribute to mood dysregulation and physical symptoms.\n",
            "Model: hormonal and neurochemical imbalances underlying pmdd.\n",
            "BLEU: 0.00\n",
            "\n",
            "Q: how does menorrhagia impact a woman's quality of life, and what treatment options are available?\n",
            "Target: Menorrhagia, characterized by excessively heavy menstrual bleeding, can lead to anemia, fatigue, and social limitations. Treatment options range from hormonal therapies and nonsteroidal anti-inflammatory drugs (NSAIDs) to surgical interventions like endometrial ablation or hysterectomy in severe cases.\n",
            "Model: Menorrhagia affects a woman's quality of life, and what treatment options are available?\n",
            "BLEU: 0.00\n",
            "\n",
            "Q: what treatment modalities are available for managing endometriosis-related menstrual symptoms?\n",
            "Target: Treatment options for endometriosis-related menstrual symptoms include hormonal therapies, nonsteroidal anti-inflammatory drugs (NSAIDs), surgical excision of endometrial implants, or laparoscopic procedures to remove adhesions and scar tissue.\n",
            "Model: modalities are available to manage endometriosis-related menstrual symptoms.\n",
            "BLEU: 0.00\n",
            "\n",
            "Q: how does the menstrual cycle influence mood and cognitive function?\n",
            "Target: Fluctuations in estrogen and progesterone levels throughout the menstrual cycle can impact neurotransmitter activity in the brain, affecting mood, cognitive function, and emotional well-being.\n",
            "Model: Menstrual cycle influences mood and cognitive function.\n",
            "BLEU: 0.00\n",
            "\n",
            "Q: can you discuss the psychological impact of chronic menstrual disorders on women's mental health?\n",
            "Target: Chronic menstrual disorders, such as PMDD or severe dysmenorrhea, can significantly impact women's mental health, leading to depression, anxiety, diminished quality of life, and impaired social functioning.\n",
            "Model: Psychiatrics can be a factor in reducing the risk of chronic menstrual disorders.\n",
            "BLEU: 0.00\n",
            "\n",
            "Q: how can interdisciplinary collaboration among healthcare providers optimize the management of menstrual disorders?\n",
            "Target: Interdisciplinary collaboration involving gynecologists, endocrinologists, psychologists, and nutritionists allows for comprehensive assessment and tailored management approaches that address both the physical and psychological aspects of menstrual disorders, promoting holistic care and improved patient\u00a0outcomes\n",
            "Model: interdisciplinary collaboration can be used to improve the management of menstrual disorders, a sexism of menstrual disorders, and reduce risk of infection.\n",
            "BLEU: 0.00\n",
            "\n",
            "Q: how can policymakers address menstrual health disparities for transgender individuals?\n",
            "Target: Policies should ensure access to affirming healthcare, nondiscriminatory workplace and school environments, and inclusive menstrual product options for transgender individuals.\n",
            "Model: \n",
            "BLEU: 0.00\n",
            "\n",
            "Q: what are some innovative approaches to delivering menstrual health education in schools?\n",
            "Target: Approaches include interactive workshops, peer-led initiatives, multimedia resources, and integrating menstrual health into existing subjects such as biology or health education.\n",
            "Model: \n",
            "BLEU: 0.00\n",
            "\n",
            "Q: how can technology integration improve menstrual health research and data collection?\n",
            "Target: Technology enables large-scale data collection, longitudinal studies, and real-time monitoring, facilitating research on menstrual health patterns, trends, and disparities.\n",
            "Model: Using technology to improve the quality of the data collected.\n",
            "BLEU: 0.00\n",
            "\n",
            "Q: how does menstrual health education benefit students in school settings?\n",
            "Target: Menstrual health education promotes body literacy, reduces stigma and shame surrounding menstruation, and equips students with essential knowledge for managing their menstrual health.\n",
            "Model: Students in school settings benefit from menstrual health education.\n",
            "BLEU: 0.00\n",
            "\n",
            "Q: what are some considerations for designing technology for menstrual health in low-resource settings?\n",
            "Target: Considerations include offline functionality, low data usage, and compatibility with basic smartphones to ensure accessibility and usability in low-resource settings.\n",
            "Model: Designing technology for menstrual health in low-resource settings can help reduce risk of infection.\n",
            "BLEU: 0.00\n",
            "\n",
            "Q: what are some misconceptions about menstruation and transgender individuals?\n",
            "Target: Misconceptions include assuming all transgender individuals menstruate or that menstruation defines gender identity, overlooking the diversity of experiences within transgender communities.\n",
            "Model: Manstruation and transgender individuals are misconceptions about menstruation and transgender individuals.\n",
            "BLEU: 0.00\n",
            "\n",
            "Q: how can schools address cultural and religious considerations in menstrual health education?\n",
            "Target: Schools can collaborate with community leaders, engage parents in curriculum development, and provide culturally sensitive resources to respect diverse cultural and religious beliefs.\n",
            "Model: Education: Education, education, and education are a valuable resource for educating men and women.\n",
            "BLEU: 0.00\n",
            "\n",
            "Q: what role do healthcare providers play in supporting individuals with chronic illnesses in managing menstrual symptoms?\n",
            "Target: Healthcare providers offer personalized treatment plans, symptom management strategies, and referrals to specialists to address menstrual symptoms within the context of chronic illnesses.\n",
            "Model: , ii. e. e. c.., i., ii., iii, iii, iii, iii, iii, ii\n",
            "BLEU: 0.00\n",
            "\n",
            "Q: how do chronic illnesses impact individuals' access to menstrual products and healthcare services?\n",
            "Target: Chronic illnesses may limit individuals' mobility, financial resources, and access to healthcare providers, posing barriers to obtaining menstrual products and specialized care.\n",
            "Model: Chronic illnesses can cause chronic pain and disability, causing them to become more accessible and more accessible to menstrual products. Chronic chronic illnesses can cause serious and devastating effects on their access to menstrual products and healthcare services.\n",
            "BLEU: 0.00\n",
            "\n",
            "Q: what are some challenges associated with technology integration in menstrual health management?\n",
            "Target: Challenges may include data privacy concerns, accuracy of tracking algorithms, and accessibility issues for individuals without access to smartphones or internet connectivity.\n",
            "Model: Technology integration in menstrual health management can be challenging.\n",
            "BLEU: 0.00\n",
            "\n",
            "Q: how do cultural attitudes towards menstruation impact menstrual health education initiatives?\n",
            "Target: Cultural attitudes towards menstruation can impact menstrual health education initiatives by influencing content, delivery methods, and community acceptance of the information provided.\n",
            "Model: promoting awareness of menstruation and promoting menstruation.\n",
            "BLEU: 0.00\n",
            "\n",
            "Q: what are some long-term strategies for addressing menstrual hygiene challenges in post-disaster humanitarian contexts?\n",
            "Target: Long-term strategies include investing in sustainable sanitation infrastructure, promoting menstrual product microenterprises, and incorporating menstrual health into disaster preparedness plans.\n",
            "Model: Using menstrual hygiene practices, menstrual hygiene practices and menstrual hygiene practices.\n",
            "BLEU: 0.00\n",
            "\n",
            "Q: how does menstrual health education contribute to gender equity in schools?\n",
            "Target: Menstrual health education contributes to gender equity in schools by challenging gender stereotypes, promoting empathy, and fostering an inclusive learning environment.\n",
            "Model: Menstrual education contributes to gender equity in schools.\n",
            "BLEU: 0.14\n",
            "\n",
            "Q: what are some innovative solutions for addressing menstrual hygiene needs in humanitarian settings?\n",
            "Target: Some innovative solutions include distributing menstrual cups, reusable cloth pads, and sustainable menstrual products, along with implementing community-led sanitation initiatives.\n",
            "Model: Innovative solutions for addressing menstrual hygiene needs in humanitarian settings?\n",
            "BLEU: 0.00\n",
            "\n",
            "Q: how does nutrition affect menstrual health?\n",
            "Target: Adequate nutrition, including a balanced diet rich in iron and essential nutrients, can support menstrual health by promoting regular cycles and reducing symptoms such as fatigue and mood swings.\n",
            "Model: Ern\u00e4hrung affects menstrual health.\n",
            "BLEU: 0.00\n",
            "\n",
            "Q: what are some common myths about menstruation?\n",
            "Target: Common myths include beliefs that menstruating individuals should avoid certain activities like swimming or exercise, or that menstrual blood is impure or dirty.\n",
            "Model: menstruation common myths about menstruation are common myths about menstruation. They are common myths about menstruation.\n",
            "BLEU: 0.00\n",
            "\n",
            "Q: how does stress impact menstrual cycles?\n",
            "Target: Stress can disrupt menstrual cycles by affecting hormone levels, leading to irregular periods, skipped cycles, or more severe menstrual symptoms.\n",
            "Model: \n",
            "BLEU: 0.00\n",
            "\n",
            "Q: what is premenstrual syndrome (pms)?\n",
            "Target: Premenstrual syndrome (PMS) refers to a combination of physical and emotional symptoms that occur in the days leading up to menstruation, such as bloating, mood swings, and fatigue.\n",
            "Model: Premenstrual syndrome (preferred syndrome) syndrome (ps)\n",
            "BLEU: 0.00\n",
            "\n",
            "Q: how does age affect menstruation?\n",
            "Target: Menstruation typically begins during puberty, around ages 12 to 14, and ceases during menopause, usually around ages 45 to 55, as a result of declining hormone levels.\n",
            "Model: Women and menstruation.\n",
            "BLEU: 0.00\n",
            "\n",
            "Q: what are some environmental impacts of disposable menstrual products?\n",
            "Target: Disposable menstrual products contribute to environmental pollution due to the use of non-biodegradable materials and the energy-intensive production and disposal processes.\n",
            "Model: menstrual products.\n",
            "BLEU: 0.00\n",
            "\n",
            "Q: how does exercise impact menstrual cycles?\n",
            "Target: Regular exercise can regulate menstrual cycles and reduce menstrual symptoms by promoting hormonal balance and improving overall health.\n",
            "Model: Exercise affects cycles of menstrual exercise.\n",
            "BLEU: 0.00\n",
            "\n",
            "Q: what is menorrhagia?\n",
            "Target: Menorrhagia is a medical term for abnormally heavy or prolonged menstrual bleeding, which can interfere with daily activities and may indicate underlying health issues.\n",
            "Model: Menorrhagia is a form of menorrhagia.\n",
            "BLEU: 0.00\n",
            "\n",
            "Q: what is the main focus of menstrual health education in schools?\n",
            "Target: Menstrual health education in schools aims to provide students with essential knowledge about menstruation, reproductive health, and menstrual hygiene management.\n",
            "Model: Education in menstrual health education in schools.\n",
            "BLEU: 0.00\n",
            "\n",
            "Q: how long does a typical menstrual cycle last?\n",
            "Target: A typical menstrual cycle lasts around 28 days, but it can range from 21 to 35 days.\n",
            "Model: The average menstrual cycle is a typical menstrual cycle cycle.\n",
            "BLEU: 0.00\n",
            "\n",
            "Q: what is the average duration of menstrual bleeding?\n",
            "Target: On average, menstrual bleeding lasts for about 3 to 5 days.\n",
            "Model: Menstrual bleeding is a common cause.\n",
            "BLEU: 0.00\n",
            "\n",
            "Q: at what age do most girls usually start menstruating?\n",
            "Target: Most girls start menstruating between the ages of 10 and 15, with the average age being around 12.\n",
            "Model: At what age do most girls start menstruating?\n",
            "BLEU: 0.00\n",
            "\n",
            "Q: how long does ovulation usually last during the menstrual cycle?\n",
            "Target: Ovulation typically lasts for about 24 to 48 hours during the menstrual cycle.\n",
            "Model: ovulations last for ovulation a few years, but ovulation usually lasts for longer.\n",
            "BLEU: 0.00\n",
            "\n",
            "Q: how many days before menstruation can premenstrual syndrome (pms) symptoms start?\n",
            "Target: PMS symptoms can start to manifest anywhere from 1 to 2 weeks before menstruation begins.\n",
            "Model: Premenstruation is not a cure for the disease.\n",
            "BLEU: 0.00\n",
            "\n",
            "Q: how many days after ovulation does menstruation usually occur if pregnancy doesn\u2019t happen?\n",
            "Target: If pregnancy doesn\u2019t occur, menstruation usually starts about 14 days after ovulation.\n",
            "Model: Approximately a week after ovulation, the menstrual varies slightly from the age of two to the age of two.\n",
            "BLEU: 0.00\n",
            "\n",
            "Q: what is the average duration of a menstrual period cycle for most women?\n",
            "Target: The average duration of a menstrual period cycle for most women is around 5 to 7 day\n",
            "Model: Menstrual periods are typically shortened to a period of about a month.\n",
            "BLEU: 0.00\n",
            "\n",
            "Q: how many days does the luteal phase of the menstrual cycle typically last?\n",
            "Target: The luteal phase usually lasts for about 10 to 16 days.\n",
            "Model: Approximately 2,000 days after the luteal phase of the menstrual cycle cycle are established.\n",
            "BLEU: 0.00\n",
            "\n",
            "Q: how many days before menstruation can ovulation occur in a typical cycle?\n",
            "Target: Ovulation typically occurs around 10 to 14 days before menstruation begins in a typical cycle.\n",
            "Model: How many days before menstruation can ovulation occur?\n",
            "BLEU: 0.00\n",
            "\n",
            "Q: what is the average duration of a menstrual period for someone using hormonal birth control?\n",
            "Target: The average duration of a menstrual period for someone using hormonal birth control is often shorter, around 2 to 7 days.\n",
            "Model: Approximately a week\n",
            "BLEU: 0.00\n",
            "\n",
            "Average BLEU on test set: 0.00\n"
          ]
        }
      ],
      "source": [
        "import torch\n",
        "\n",
        "def generate_answer(question):\n",
        "    t5_input = \"question: \" + question.strip().lower()\n",
        "    input_ids = tokenizer(t5_input, return_tensors=\"pt\").input_ids\n",
        "    # Move inputs to the same device as the model\n",
        "    device = next(model.parameters()).device\n",
        "    input_ids = input_ids.to(device)\n",
        "    output = model.generate(input_ids, max_length=64)\n",
        "    return tokenizer.decode(output[0], skip_special_tokens=True)\n",
        "\n",
        "test_inputs = df_test['instruction (string)'].tolist()\n",
        "test_targets = df_test['output (string)'].tolist()\n",
        "\n",
        "bleu_scores = []\n",
        "for i in range(len(test_inputs)):\n",
        "    pred = generate_answer(test_inputs[i])\n",
        "    bleu = sentence_bleu([test_targets[i].split()], pred.split())\n",
        "    bleu_scores.append(bleu)\n",
        "    print(f\"Q: {test_inputs[i]}\\nTarget: {test_targets[i]}\\nModel: {pred}\\nBLEU: {bleu:.2f}\\n\")\n",
        "\n",
        "average_bleu = sum(bleu_scores) / len(bleu_scores)\n",
        "print(f\"Average BLEU on test set: {average_bleu:.2f}\")\n"
      ]
    },
    {
      "cell_type": "code",
      "execution_count": 23,
      "metadata": {
        "id": "L3Y2VcF38_AR"
      },
      "outputs": [],
      "source": [
        "def generate_answer(question):\n",
        "    t5_input = \"question: \" + question.strip().lower()   # Use T5 prefix!\n",
        "    input_ids = tokenizer(t5_input, return_tensors=\"pt\").input_ids\n",
        "    output = model.generate(input_ids, max_length=64)    # <-- ADD max_length here!\n",
        "    answer = tokenizer.decode(output[0], skip_special_tokens=True)\n",
        "    return answer\n"
      ]
    },
    {
      "cell_type": "code",
      "execution_count": 26,
      "metadata": {
        "colab": {
          "base_uri": "https://localhost:8080/"
        },
        "id": "VSSWP5oc_VIx",
        "outputId": "d4b6b4ca-4db5-4ae7-a524-0cc4a186419e"
      },
      "outputs": [
        {
          "name": "stdout",
          "output_type": "stream",
          "text": [
            "Menstrual cramps are common in menstrual conditions.\n"
          ]
        }
      ],
      "source": [
        "import torch\n",
        "\n",
        "question = \"What are menstrual cramps?\"\n",
        "t5_input = \"question: \" + question.strip().lower()\n",
        "input_ids = tokenizer(t5_input, return_tensors=\"pt\").input_ids\n",
        "\n",
        "# Move input_ids to the model's device (CPU or CUDA)\n",
        "device = next(model.parameters()).device\n",
        "input_ids = input_ids.to(device)\n",
        "\n",
        "output_ids = model.generate(input_ids, max_length=64)\n",
        "answer = tokenizer.decode(output_ids[0], skip_special_tokens=True)\n",
        "print(answer)\n"
      ]
    },
    {
      "cell_type": "code",
      "execution_count": 29,
      "metadata": {
        "colab": {
          "base_uri": "https://localhost:8080/"
        },
        "id": "H8Ayh4ZWKN6V",
        "outputId": "884a2e14-5634-4a76-9809-7a57a22ed766"
      },
      "outputs": [
        {
          "name": "stdout",
          "output_type": "stream",
          "text": [
            "Markdown table saved to data/experiment_table.md\n",
            "CSV table saved to data/experiment_table.csv\n"
          ]
        }
      ],
      "source": [
        "import pandas as pd\n",
        "\n",
        "# Example: add your actual experiment results to this list\n",
        "experiment_results = [\n",
        "    {\n",
        "        \"Experiment\": 1,\n",
        "        \"Pretrained Model\": \"T5-small\",\n",
        "        \"Learning Rate\": 5e-5,\n",
        "        \"Batch Size\": 8,\n",
        "        \"Epochs\": 2,\n",
        "        \"BLEU Score (Test)\": 0.45,\n",
        "        \"Notes & Observations\": \"Baseline; outputs short answers, some echoing\"\n",
        "    },\n",
        "    {\n",
        "        \"Experiment\": 2,\n",
        "        \"Pretrained Model\": \"T5-small\",\n",
        "        \"Learning Rate\": 5e-5,\n",
        "        \"Batch Size\": 8,\n",
        "        \"Epochs\": 4,\n",
        "        \"BLEU Score (Test)\": 0.51,\n",
        "        \"Notes & Observations\": \"Longer training, more accurate, less echo\"\n",
        "    }\n",
        "    # ... add more experiments here\n",
        "]\n",
        "\n",
        "# Convert to DataFrame\n",
        "exp_df = pd.DataFrame(experiment_results)\n",
        "\n",
        "# Save as Markdown\n",
        "markdown_path = 'data/experiment_table.md'\n",
        "with open(markdown_path, 'w') as f:\n",
        "    f.write(exp_df.to_markdown(index=False))\n",
        "print(f\"Markdown table saved to {markdown_path}\")\n",
        "\n",
        "# Save as CSV\n",
        "csv_path = 'data/experiment_table.csv'\n",
        "exp_df.to_csv(csv_path, index=False)\n",
        "print(f\"CSV table saved to {csv_path}\")\n"
      ]
    },
    {
      "cell_type": "code",
      "execution_count": 38,
      "metadata": {
        "colab": {
          "base_uri": "https://localhost:8080/"
        },
        "id": "xnnC5HIOLpge",
        "outputId": "9096875b-c3e5-42f1-f574-ad4894504acf"
      },
      "outputs": [
        {
          "name": "stdout",
          "output_type": "stream",
          "text": [
            "Cloning into 'MenstrualHealth_Chatbot'...\n",
            "remote: Enumerating objects: 35, done.\u001b[K\n",
            "remote: Counting objects: 100% (35/35), done.\u001b[K\n",
            "remote: Compressing objects: 100% (31/31), done.\u001b[K\n",
            "remote: Total 35 (delta 9), reused 0 (delta 0), pack-reused 0 (from 0)\u001b[K\n",
            "Receiving objects: 100% (35/35), 79.32 KiB | 173.00 KiB/s, done.\n",
            "Resolving deltas: 100% (9/9), done.\n"
          ]
        }
      ],
      "source": [
        "!git clone https://github.com/Irenee123/MenstrualHealth_Chatbot.git\n"
      ]
    },
    {
      "cell_type": "code",
      "execution_count": 39,
      "metadata": {
        "colab": {
          "base_uri": "https://localhost:8080/"
        },
        "id": "XwLEyLHNMSSg",
        "outputId": "9b85700e-af01-4912-b121-a4cb16a7932d"
      },
      "outputs": [
        {
          "name": "stdout",
          "output_type": "stream",
          "text": [
            "/content/MenstrualHealth_Chatbot/MenstrualHealth_Chatbot\n"
          ]
        }
      ],
      "source": [
        "cd MenstrualHealth_Chatbot/\n"
      ]
    },
    {
      "cell_type": "code",
      "execution_count": 41,
      "metadata": {
        "colab": {
          "base_uri": "https://localhost:8080/"
        },
        "id": "AVkGd2y7M0s0",
        "outputId": "b59c5de3-1374-4778-e2b2-f3f2d4af8b2d"
      },
      "outputs": [
        {
          "name": "stdout",
          "output_type": "stream",
          "text": [
            "Author identity unknown\n",
            "\n",
            "*** Please tell me who you are.\n",
            "\n",
            "Run\n",
            "\n",
            "  git config --global user.email \"you@example.com\"\n",
            "  git config --global user.name \"Your Name\"\n",
            "\n",
            "to set your account's default identity.\n",
            "Omit --global to set the identity only in this repository.\n",
            "\n",
            "fatal: unable to auto-detect email address (got 'root@c5de29ee0209.(none)')\n",
            "fatal: could not read Username for 'https://github.com': No such device or address\n"
          ]
        }
      ],
      "source": [
        "\n",
        "\n",
        "\n"
      ]
    },
    {
      "cell_type": "code",
      "execution_count": 65,
      "metadata": {
        "id": "plwA-jiDNJpH"
      },
      "outputs": [],
      "source": [
        "!git config --global user.email \"i.dusingizi@alustudent.com\"\n",
        "!git config --global user.name \"Irenee123\"\n"
      ]
    },
    {
      "cell_type": "code",
      "execution_count": 66,
      "metadata": {
        "colab": {
          "base_uri": "https://localhost:8080/"
        },
        "id": "CGNG4r6UOK0x",
        "outputId": "db31cc4b-3328-4c82-82c1-d3b8a1b1392b"
      },
      "outputs": [
        {
          "name": "stdout",
          "output_type": "stream",
          "text": [
            "Already up to date.\n"
          ]
        }
      ],
      "source": [
        "!git pull"
      ]
    },
    {
      "cell_type": "code",
      "execution_count": 67,
      "metadata": {
        "id": "59TRK9qeNaeO"
      },
      "outputs": [],
      "source": [
        "!git add .\n"
      ]
    },
    {
      "cell_type": "code",
      "execution_count": 68,
      "metadata": {
        "colab": {
          "base_uri": "https://localhost:8080/"
        },
        "id": "fkpfUaPxQxRK",
        "outputId": "5320668a-ce25-49de-ccc3-d8025aa27a71"
      },
      "outputs": [
        {
          "name": "stdout",
          "output_type": "stream",
          "text": [
            "On branch main\n",
            "Your branch is ahead of 'origin/main' by 2 commits.\n",
            "  (use \"git push\" to publish your local commits)\n",
            "\n",
            "nothing to commit, working tree clean\n"
          ]
        }
      ],
      "source": [
        "!git commit -m \"Add all data, models, sample_data, notebooks, and project files\"\n"
      ]
    },
    {
      "cell_type": "code",
      "execution_count": 77,
      "metadata": {
        "colab": {
          "base_uri": "https://localhost:8080/"
        },
        "id": "IGqZOK6wQ2MJ",
        "outputId": "0c38cc31-1c0b-415b-f61f-4071d33cba09"
      },
      "outputs": [
        {
          "name": "stdout",
          "output_type": "stream",
          "text": [
            "Enumerating objects: 17, done.\n",
            "Counting objects:   5% (1/17)\rCounting objects:  11% (2/17)\rCounting objects:  17% (3/17)\rCounting objects:  23% (4/17)\rCounting objects:  29% (5/17)\rCounting objects:  35% (6/17)\rCounting objects:  41% (7/17)\rCounting objects:  47% (8/17)\rCounting objects:  52% (9/17)\rCounting objects:  58% (10/17)\rCounting objects:  64% (11/17)\rCounting objects:  70% (12/17)\rCounting objects:  76% (13/17)\rCounting objects:  82% (14/17)\rCounting objects:  88% (15/17)\rCounting objects:  94% (16/17)\rCounting objects: 100% (17/17)\rCounting objects: 100% (17/17), done.\n",
            "Delta compression using up to 2 threads\n",
            "Compressing objects:   7% (1/14)\rCompressing objects:  14% (2/14)\rCompressing objects:  21% (3/14)\rCompressing objects:  28% (4/14)\rCompressing objects:  35% (5/14)\rCompressing objects:  42% (6/14)\rCompressing objects:  50% (7/14)\rCompressing objects:  57% (8/14)\rCompressing objects:  64% (9/14)\rCompressing objects:  71% (10/14)\rCompressing objects:  78% (11/14)\rCompressing objects:  85% (12/14)\rCompressing objects:  92% (13/14)\rCompressing objects: 100% (14/14)\rCompressing objects: 100% (14/14), done.\n",
            "Writing objects:   6% (1/16)\rWriting objects:  12% (2/16)\rWriting objects:  18% (3/16)\rWriting objects:  25% (4/16)\rWriting objects:  37% (6/16)\rWriting objects:  56% (9/16)\rWriting objects:  62% (10/16)\rWriting objects:  68% (11/16)\rWriting objects:  75% (12/16)\rWriting objects:  81% (13/16)\rWriting objects:  87% (14/16)\rWriting objects:  93% (15/16)\rWriting objects: 100% (16/16)\rWriting objects: 100% (16/16), 80.76 KiB | 4.25 MiB/s, done.\n",
            "Total 16 (delta 3), reused 0 (delta 0), pack-reused 0\n",
            "remote: Resolving deltas: 100% (3/3), done.\u001b[K\n",
            "To https://github.com/Irenee123/MenstrualHealth_Chatbot.git\n",
            "   8248f68..2ade49f  main -> main\n",
            "Branch 'main' set up to track remote branch 'main' from 'origin'.\n"
          ]
        }
      ],
      "source": [
        "!git push -u origin main\n",
        "!git remote set-url origin https://Irenee123:token/Irenee123/https://github.com/Irenee123/MenstrualHealth_Chatbot.git\n",
        "\n",
        "\n"
      ]
    },
    {
      "cell_type": "code",
      "execution_count": 80,
      "metadata": {
        "colab": {
          "base_uri": "https://localhost:8080/"
        },
        "id": "myLcS_R7Uy-m",
        "outputId": "d858cb82-857b-4ccd-c386-602877aa5cb8"
      },
      "outputs": [
        {
          "name": "stdout",
          "output_type": "stream",
          "text": [
            "fatal: pathspec 'model/' did not match any files\n"
          ]
        }
      ],
      "source": [
        "!git add model/\n"
      ]
    }
  ],
  "metadata": {
    "accelerator": "GPU",
    "colab": {
      "gpuType": "T4",
      "provenance": []
    },
    "kernelspec": {
      "display_name": "Python 3",
      "name": "python3"
    },
    "language_info": {
      "name": "python"
    }
  },
  "nbformat": 4,
  "nbformat_minor": 0
}